{
 "cells": [
  {
   "cell_type": "code",
   "execution_count": 5,
   "id": "b0abc37e-b437-4572-ba55-e2d94bf0940a",
   "metadata": {},
   "outputs": [
    {
     "name": "stdout",
     "output_type": "stream",
     "text": [
      "machine lerning\n",
      "machine lerning\n",
      "machine lerning\n",
      "machine lerning\n",
      "machine lerning\n",
      "\n"
     ]
    }
   ],
   "source": [
    "print(\"machine lerning\\n\"*5)"
   ]
  },
  {
   "cell_type": "code",
   "execution_count": null,
   "id": "730d5ace-a91f-46f1-9a7d-fea7fefda905",
   "metadata": {},
   "outputs": [],
   "source": []
  }
 ],
 "metadata": {
  "kernelspec": {
   "display_name": "Python 3 (ipykernel)",
   "language": "python",
   "name": "python3"
  },
  "language_info": {
   "codemirror_mode": {
    "name": "ipython",
    "version": 3
   },
   "file_extension": ".py",
   "mimetype": "text/x-python",
   "name": "python",
   "nbconvert_exporter": "python",
   "pygments_lexer": "ipython3",
   "version": "3.12.4"
  }
 },
 "nbformat": 4,
 "nbformat_minor": 5
}
